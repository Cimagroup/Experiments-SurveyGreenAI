{
 "cells": [
  {
   "cell_type": "code",
   "execution_count": 1,
   "metadata": {},
   "outputs": [],
   "source": [
    "import os\n",
    "import yaml\n",
    "from PIL import Image, ImageDraw\n",
    "from tqdm import tqdm\n",
    "import shutil"
   ]
  },
  {
   "cell_type": "markdown",
   "metadata": {},
   "source": [
    "# We define the necessary functions to be used"
   ]
  },
  {
   "cell_type": "code",
   "execution_count": 2,
   "metadata": {},
   "outputs": [],
   "source": [
    "def contarLineas(archivoNombre):\n",
    "    with open(archivoNombre,'r') as archivo:\n",
    "        lineas = archivo.readlines()\n",
    "        nLineas = len(lineas)\n",
    "\n",
    "    return nLineas\n",
    "\n",
    "def concatenarTestLabels(archivosConcat,archivoSalida):\n",
    "    with open(archivo_salida, 'w') as salida:\n",
    "        # Itera sobre la lista de archivos a concatenar\n",
    "        for archivo in archivos_a_concatenar:\n",
    "            # Abre cada archivo en modo lectura\n",
    "            with open(archivo, 'r') as entrada:\n",
    "                # Lee el contenido del archivo y escribe en el archivo de salida\n",
    "                contenido = entrada.read()\n",
    "                salida.write(contenido)\n",
    "\n",
    "def pintar_imagenes_box(image_path):\n",
    "    label_path = \"Annotations_RGB_txt/\" + image_path[:-4] + \".txt\"\n",
    "    image_path = \"Images_RGB/\" + image_path\n",
    "    print(image_path)\n",
    "    print(label_path)\n",
    "    # Open the image and create ImageDraw object for drawing\n",
    "    image = Image.open(image_path)\n",
    "    draw = ImageDraw.Draw(image)\n",
    "    colores = [\"red\",\"green\",\"blue\",\"yellow\",\"pink\"]\n",
    "    with open(label_path, 'r') as f:\n",
    "        for line in f.readlines():\n",
    "            # Split the line into five values\n",
    "            label, x, y, w, h = line.split(' ')\n",
    "            \n",
    "            # Convert string into float\n",
    "            label = int(label)\n",
    "            x = float(x)\n",
    "            y = float(y)\n",
    "            w = float(w)\n",
    "            h = float(h)\n",
    "\n",
    "            # Convert center position, width, height into\n",
    "            # top-left and bottom-right coordinates\n",
    "            W, H = image.size\n",
    "            x1 = (x - w/2) * W\n",
    "            y1 = (y - h/2) * H\n",
    "            x2 = (x + w/2) * W\n",
    "            y2 = (y + h/2) * H\n",
    "\n",
    "            # Draw the bounding box with red lines\n",
    "            draw.rectangle((x1, y1, x2, y2),\n",
    "                           outline=colores[label], # Red in RGB\n",
    "                           width=5)             # Line width\n",
    "    image.show()\n",
    "    image.close()\n",
    "\n",
    "def convertir_yml_into_txt_YOLOV5(entrada,salida):\n",
    "    entrada_yaml = entrada\n",
    "    salida_txt = salida\n",
    "\n",
    "    # Leer el archivo YAML\n",
    "    with open(entrada_yaml, 'r') as file:\n",
    "        data = yaml.safe_load(file)\n",
    "\n",
    "    # Verificar si hay objetos en el archivo YAML\n",
    "    if 'object' in data['annotation']:\n",
    "        # Crear una lista para almacenar las etiquetas convertidas\n",
    "        etiquetas_yolo = []\n",
    "\n",
    "        # Iterar sobre cada objeto en el archivo YAML\n",
    "        for obj in data['annotation']['object']:\n",
    "            # Obtener el nombre de la etiqueta\n",
    "            label = 0 if obj['name'] == \"person\" else 1 if obj['name'] == \"wheelchair\" else 2 if obj['name'] == \"push_wheelchair\" else 3 if obj['name'] == \"crutches\" else 4 if obj['name'] == \"walking_frame\" else -1\n",
    "            # Obtener las coordenadas delimitadoras\n",
    "            xmin = float(obj['bndbox']['xmin'])\n",
    "            ymin = float(obj['bndbox']['ymin'])\n",
    "            xmax = float(obj['bndbox']['xmax'])\n",
    "            ymax = float(obj['bndbox']['ymax'])\n",
    "\n",
    "            # Calcular las coordenadas relativas al ancho y alto de la imagen\n",
    "            width = float(data['annotation']['size']['width'])\n",
    "            height = float(data['annotation']['size']['height'])\n",
    "\n",
    "            x_center = (xmin + xmax) / (2 * width)\n",
    "            y_center = (ymin + ymax) / (2 * height)\n",
    "            w = (xmax - xmin) / width\n",
    "            h = (ymax - ymin) / height\n",
    "\n",
    "            # Agregar la etiqueta convertida a la lista\n",
    "            etiquetas_yolo.append(f\"{label} {x_center} {y_center} {w} {h}\")\n",
    "\n",
    "        # Escribir las etiquetas convertidas al archivo de salida\n",
    "        with open(salida_txt, 'w') as file:\n",
    "            for label_yolo in etiquetas_yolo:\n",
    "                file.write(label_yolo + '\\n')\n",
    "\n",
    "    else:\n",
    "        # Si no hay objetos, crea un archivo de texto vacío\n",
    "        open(salida_txt, 'w').close()"
   ]
  },
  {
   "cell_type": "markdown",
   "metadata": {},
   "source": [
    "# Resumen para ver que concuerda el número de imágenes y archivos de etiquetas"
   ]
  },
  {
   "cell_type": "code",
   "execution_count": 3,
   "metadata": {},
   "outputs": [
    {
     "name": "stdout",
     "output_type": "stream",
     "text": [
      "Número total de imágenes:  17079\n",
      "Número total de archivos de etiquetas:  17079\n",
      "Número de imágenes de TRAIN:  10961\n",
      "Número de imágenes de Test:  6118\n"
     ]
    }
   ],
   "source": [
    "nImagenes = len(os.listdir(\"Images_RGB\"))\n",
    "print(\"Número total de imágenes: \", nImagenes)\n",
    "nLabels = len(os.listdir(\"Annotations_RGB\")) + len(os.listdir(\"Annotations_RGB_TestSet2\"))\n",
    "print(\"Número total de archivos de etiquetas: \", nLabels)\n",
    "\n",
    "# Lista de nombres de archivos que quieres concatenar\n",
    "archivos_a_concatenar = ['ImageSets/TestSet1.txt', 'ImageSets/TestSet2_seq1.txt', 'ImageSets/TestSet2_seq2.txt','ImageSets/TestSet2_seq3.txt','ImageSets/TestSet2_seq4.txt']\n",
    "archivo_salida = 'ImageSets/TestSet_RGB.txt'\n",
    "concatenarTestLabels(archivos_a_concatenar,archivo_salida)\n",
    "nTest = contarLineas(\"ImageSets/TestSet_RGB.txt\")\n",
    "nTrain = contarLineas(\"ImageSets/TrainSet_RGB.txt\")\n",
    "\n",
    "\n",
    "print(\"Número de imágenes de TRAIN: \", nTrain)\n",
    "print(\"Número de imágenes de Test: \", nTest)"
   ]
  },
  {
   "cell_type": "markdown",
   "metadata": {},
   "source": [
    "# Creating a folder with all the txt files of the labels"
   ]
  },
  {
   "cell_type": "code",
   "execution_count": 4,
   "metadata": {},
   "outputs": [
    {
     "name": "stdout",
     "output_type": "stream",
     "text": [
      "17079\n"
     ]
    }
   ],
   "source": [
    "labels=[]\n",
    "for archivo in os.listdir(\"Annotations_RGB\"):\n",
    "    labels.append(\"Annotations_RGB/\" + archivo)\n",
    "for archivo in os.listdir(\"Annotations_RGB_TestSet2\"):\n",
    "    labels.append(\"Annotations_RGB_TestSet2/\" + archivo)\n",
    "print(len(labels))"
   ]
  },
  {
   "cell_type": "code",
   "execution_count": 5,
   "metadata": {},
   "outputs": [
    {
     "name": "stderr",
     "output_type": "stream",
     "text": [
      "100%|████████████████████████████████████████████████████████████████████████████| 17079/17079 [00:39<00:00, 430.50it/s]"
     ]
    },
    {
     "name": "stdout",
     "output_type": "stream",
     "text": [
      "17079\n"
     ]
    },
    {
     "name": "stderr",
     "output_type": "stream",
     "text": [
      "\n"
     ]
    }
   ],
   "source": [
    "for archivo in tqdm(labels):\n",
    "   entrada = archivo\n",
    "   salida = \"Annotations_RGB_txt/\" + archivo[-29:-4] + \".txt\"\n",
    "   convertir_yml_into_txt_YOLOV5(entrada,salida)\n",
    "\n",
    "print(len(os.listdir(\"Annotations_RGB_txt\")))"
   ]
  },
  {
   "cell_type": "markdown",
   "metadata": {},
   "source": [
    "# We see the number of items per category"
   ]
  },
  {
   "cell_type": "code",
   "execution_count": 14,
   "metadata": {},
   "outputs": [
    {
     "name": "stdout",
     "output_type": "stream",
     "text": [
      "Hay 0 de personas, 0 en sillas de ruedas, 0 empujando sillas, 0 con muletas y 0 con andador\n"
     ]
    },
    {
     "data": {
      "text/plain": [
       "Series([], dtype: int64)"
      ]
     },
     "execution_count": 14,
     "metadata": {},
     "output_type": "execute_result"
    }
   ],
   "source": [
    "import os\n",
    "from tqdm import tqdm\n",
    "def categorizar_archivos(ruta):\n",
    "    categorias = []\n",
    "    NumeroPersonas=0\n",
    "    NumeroPersonasEnSillas=0\n",
    "    NumeroPersonasEmpujandoSilla=0\n",
    "    NumeroPersonasMuletas=0\n",
    "    NumeroPersonasAndador=0\n",
    "    NumeroNegativo=0\n",
    "    for root, dirs, files in os.walk(ruta+\"/labels\"):\n",
    "        for file in tqdm(files):\n",
    "            if file.endswith('.txt'):\n",
    "                path_archivo = os.path.join(root, file)\n",
    "                with open(path_archivo, 'r') as archivo:\n",
    "                    lineas = archivo.readlines()\n",
    "                    for line in lineas:\n",
    "                        if line.startswith('0'):\n",
    "                            NumeroPersonas += 1\n",
    "                        elif line.startswith('1'):\n",
    "                            NumeroPersonasEnSillas += 1\n",
    "                        elif line.startswith('2'):\n",
    "                          NumeroPersonasEmpujandoSilla += 1\n",
    "                        elif line.startswith('3'):\n",
    "                          NumeroPersonasMuletas += 1\n",
    "                        elif line.startswith('4'):\n",
    "                          NumeroPersonasAndador += 1\n",
    "                        elif line.startswith('-1'):\n",
    "                          NumeroNegativo += 1\n",
    "                    # Categoría 1: Solo un objeto, persona sin problema movilidad\n",
    "                    if len(lineas) == 1 and (lineas[0].startswith('0') or lineas[0].startswith('2')):\n",
    "                        categorias.append(0)\n",
    "                     #Categoría 2: Solo un objeto, persona con problema movilidad\n",
    "                    elif len(lineas) == 1 and (lineas[0].startswith('1') or lineas[0].startswith('3') or lineas[0].startswith('4')):\n",
    "                        categorias.append(1)\n",
    "                    # Categoria 3: Combinacion objetos, todos personas sin problema movilidad\n",
    "                    elif len(lineas) > 1 and all(line.startswith('0') or line.startswith('2') for line in lineas):\n",
    "                        categorias.append(2)\n",
    "                    # Categoria 4: Combinacion objetos, todos personas con problema movilidad\n",
    "                    elif len(lineas) > 1 and all(line.startswith('1') or line.startswith('3') or line.startswith('4') for line in lineas):\n",
    "                        categorias.append(3)\n",
    "                    #Categoria 5: Combinación objetos, personas con y sin problemas de movilidad\n",
    "                    else:\n",
    "                        categorias.append(4)\n",
    "    print(f'Hay {NumeroPersonas} de personas, {NumeroPersonasEnSillas} en sillas de ruedas, {NumeroPersonasEmpujandoSilla} empujando sillas, {NumeroPersonasMuletas} con muletas y {NumeroPersonasAndador} con andador')\n",
    "    return categorias\n",
    "\n",
    "ruta_carpeta_labels = '/home/vtoscano/Investigacion/repoNuevo/Dataset2/Annotations_RGB_txt'\n",
    "\n",
    "categoriasNumeros = categorizar_archivos(ruta_carpeta_labels)\n",
    "\n",
    "import pandas as pd\n",
    "pd.value_counts(categoriasNumeros)"
   ]
  },
  {
   "cell_type": "markdown",
   "metadata": {},
   "source": [
    "# We make a split in Train/Test in a folder called dataYOLOv5"
   ]
  },
  {
   "cell_type": "code",
   "execution_count": 16,
   "metadata": {},
   "outputs": [],
   "source": [
    "os.makedirs(\"dataYOLOv5/train/images\")\n",
    "os.makedirs(\"dataYOLOv5/train/labels\")\n",
    "os.makedirs(\"dataYOLOv5/test/images\")\n",
    "os.makedirs(\"dataYOLOv5/test/labels\")\n"
   ]
  },
  {
   "cell_type": "markdown",
   "metadata": {},
   "source": [
    "1) Cogemos todos los nombres de los archivos que van a ir a la carpeta test"
   ]
  },
  {
   "cell_type": "code",
   "execution_count": 17,
   "metadata": {},
   "outputs": [],
   "source": [
    "archivosTest=[]\n",
    "with open(\"ImageSets/TestSet_RGB.txt\", 'r') as archivo:\n",
    "    lineas = [linea.strip() for linea in archivo]\n",
    "    for archivoNombre in lineas:\n",
    "        archivosTest.append(archivoNombre)\n"
   ]
  },
  {
   "cell_type": "markdown",
   "metadata": {},
   "source": [
    "2. Copiamos las etiquetas en sus correspondientes carpetas"
   ]
  },
  {
   "cell_type": "code",
   "execution_count": 18,
   "metadata": {},
   "outputs": [
    {
     "name": "stderr",
     "output_type": "stream",
     "text": [
      "100%|███████████████████████████████████████████████████████████████████████████| 17079/17079 [00:10<00:00, 1647.01it/s]\n"
     ]
    }
   ],
   "source": [
    "x=[]\n",
    "for archivo in tqdm(os.listdir(\"Annotations_RGB_txt\")):\n",
    "    path = \"Annotations_RGB_txt/\" + archivo\n",
    "    if any(x in path for x in archivosTest):\n",
    "        #van para test\n",
    "        path_a_copiar = \"dataYOLOv5/test/labels/\" + archivo\n",
    "        shutil.copy(path,path_a_copiar)\n",
    "        os.remove(path)\n",
    "        x.append(\"Test\")\n",
    "    else:\n",
    "        path_a_copiar = \"dataYOLOv5/train/labels/\" + archivo\n",
    "        shutil.copy(path,path_a_copiar)\n",
    "        os.remove(path)\n",
    "        x.append(\"Train\")"
   ]
  },
  {
   "cell_type": "markdown",
   "metadata": {},
   "source": [
    "3. Copiamos las imagenes en sus correspondientes carpetas"
   ]
  },
  {
   "cell_type": "code",
   "execution_count": 19,
   "metadata": {},
   "outputs": [
    {
     "name": "stderr",
     "output_type": "stream",
     "text": [
      "100%|████████████████████████████████████████████████████████████████████████████| 17079/17079 [00:18<00:00, 937.76it/s]\n"
     ]
    }
   ],
   "source": [
    "y=[]\n",
    "for archivo in tqdm(os.listdir(\"Images_RGB\")):\n",
    "    path = \"Images_RGB/\" + archivo\n",
    "    if any(x in path for x in archivosTest):\n",
    "        #van para test\n",
    "        path_a_copiar = \"dataYOLOv5/test/images/\" + archivo\n",
    "        shutil.copy(path,path_a_copiar)\n",
    "        os.remove(path)\n",
    "        y.append(\"Test\")\n",
    "    else:\n",
    "        path_a_copiar = \"dataYOLOv5/train/images/\" + archivo\n",
    "        shutil.copy(path,path_a_copiar)\n",
    "        os.remove(path)\n",
    "        y.append(\"Train\")"
   ]
  },
  {
   "cell_type": "code",
   "execution_count": 20,
   "metadata": {},
   "outputs": [
    {
     "name": "stdout",
     "output_type": "stream",
     "text": [
      "10961\n",
      "10961\n",
      "6118\n",
      "6118\n"
     ]
    }
   ],
   "source": [
    "print(len(os.listdir(\"dataYOLOv5/train/images/\")))\n",
    "print(len(os.listdir(\"dataYOLOv5/train/labels/\")))\n",
    "print(len(os.listdir(\"dataYOLOv5/test/images/\")))\n",
    "print(len(os.listdir(\"dataYOLOv5/test/labels/\")))"
   ]
  },
  {
   "cell_type": "markdown",
   "metadata": {},
   "source": [
    "# Create the .yaml file specific to this dataset."
   ]
  },
  {
   "cell_type": "code",
   "execution_count": 21,
   "metadata": {},
   "outputs": [],
   "source": [
    "#customize iPython writefile so we can write variables\n",
    "from IPython.core.magic import register_line_cell_magic\n",
    "\n",
    "@register_line_cell_magic\n",
    "def writetemplate(line, cell):\n",
    "    with open(line, 'w') as f:\n",
    "        f.write(cell.format(**globals()))"
   ]
  },
  {
   "cell_type": "code",
   "execution_count": 22,
   "metadata": {},
   "outputs": [],
   "source": [
    "%%writetemplate data.yaml\n",
    "names:\n",
    "- pedestrian\n",
    "- wheelchair\n",
    "- push_wheelchair\n",
    "- crutches\n",
    "- walking-frame\n",
    "nc: 5\n",
    "test: ../Dataset2/dataYOLOv5/test/images\n",
    "train: ../Dataset2/dataYOLOv5/train/images\n",
    "val: ../Dataset2/dataYOLOv5/test/images"
   ]
  },
  {
   "cell_type": "markdown",
   "metadata": {},
   "source": [
    "# READY!"
   ]
  }
 ],
 "metadata": {
  "kernelspec": {
   "display_name": "Python 3 (ipykernel)",
   "language": "python",
   "name": "python3"
  },
  "language_info": {
   "codemirror_mode": {
    "name": "ipython",
    "version": 3
   },
   "file_extension": ".py",
   "mimetype": "text/x-python",
   "name": "python",
   "nbconvert_exporter": "python",
   "pygments_lexer": "ipython3",
   "version": "3.9.18"
  }
 },
 "nbformat": 4,
 "nbformat_minor": 4
}
